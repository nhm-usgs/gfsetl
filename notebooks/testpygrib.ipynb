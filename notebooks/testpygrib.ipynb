{
 "cells": [
  {
   "cell_type": "code",
   "execution_count": 1,
   "metadata": {},
   "outputs": [],
   "source": [
    "import pygrib\n",
    "import matplotlib.pyplot as plt\n",
    "import matplotlib.colors as colors\n",
    "from mpl_toolkits.basemap import Basemap\n",
    "from mpl_toolkits.basemap import shiftgrid\n",
    "import numpy as np"
   ]
  },
  {
   "cell_type": "code",
   "execution_count": 2,
   "metadata": {},
   "outputs": [
    {
     "output_type": "display_data",
     "data": {
      "text/plain": "<Figure size 864x576 with 0 Axes>"
     },
     "metadata": {}
    }
   ],
   "source": [
    "plt.figure(figsize=(12,8))\n",
    " \n",
    "grib = r'B:\\gitbmi\\gfsetl\\ftpdownload\\HAS011515519\\gfsanl_4_2020010100.g2\\gfs_4_20200101_0000_006.grb2' # Set the file name of your input GRIB file\n",
    "grbs = pygrib.open(grib)\n",
    " \n",
    "grb = grbs.select()[0]\n",
    "data = grb.values"
   ]
  },
  {
   "cell_type": "code",
   "execution_count": 6,
   "metadata": {
    "tags": [
     "outputPrepend",
     "outputPrepend",
     "outputPrepend",
     "outputPrepend"
    ]
   },
   "outputs": [
    {
     "output_type": "stream",
     "name": "stdout",
     "text": "m 202001010000\n413:Ice water mixing ratio:kg kg**-1 (instant):regular_ll:isobaricInhPa:level 100000 Pa:fcst time 6 hrs:from 202001010000\n414:Rain mixing ratio:kg kg**-1 (instant):regular_ll:isobaricInhPa:level 100000 Pa:fcst time 6 hrs:from 202001010000\n415:Snow mixing ratio:kg kg**-1 (instant):regular_ll:isobaricInhPa:level 100000 Pa:fcst time 6 hrs:from 202001010000\n416:Graupel (snow pellets):kg kg**-1 (instant):regular_ll:isobaricInhPa:level 100000 Pa:fcst time 6 hrs:from 202001010000\n417:Icing severity:Numeric (instant):regular_ll:isobaricInhPa:level 100000 Pa:fcst time 6 hrs:from 202001010000\n418:Ozone mixing ratio:kg kg**-1 (instant):regular_ll:isobaricInhPa:level 100000 Pa:fcst time 6 hrs:from 202001010000\n419:MSLP (Eta model reduction):Pa (instant):regular_ll:meanSea:level 0:fcst time 6 hrs:from 202001010000\n420:Geopotential Height:gpm (instant):regular_ll:isobaricInhPa:level 100000 Pa:fcst time 6 hrs:from 202001010000\n421:Surface pressure:Pa (instant):regular_ll:surface:level 0:fcst time 6 hrs:from 202001010000\n422:Orography:m (instant):regular_ll:surface:level 0:fcst time 6 hrs:from 202001010000\n423:Temperature:K (instant):regular_ll:surface:level 0:fcst time 6 hrs:from 202001010000\n424:Soil Temperature:K (instant):regular_ll:depthBelowLandLayer:levels 0.0-0.1 m:fcst time 6 hrs:from 202001010000\n425:Volumetric soil moisture content:Proportion (instant):regular_ll:depthBelowLandLayer:levels 0.0-0.1 m:fcst time 6 hrs:from 202001010000\n426:Soil Temperature:K (instant):regular_ll:depthBelowLandLayer:levels 0.1-0.4 m:fcst time 6 hrs:from 202001010000\n427:Volumetric soil moisture content:Proportion (instant):regular_ll:depthBelowLandLayer:levels 0.1-0.4 m:fcst time 6 hrs:from 202001010000\n428:Soil Temperature:K (instant):regular_ll:depthBelowLandLayer:levels 0.4-1.0 m:fcst time 6 hrs:from 202001010000\n429:Volumetric soil moisture content:Proportion (instant):regular_ll:depthBelowLandLayer:levels 0.4-1.0 m:fcst time 6 hrs:from 202001010000\n430:Soil Temperature:K (instant):regular_ll:depthBelowLandLayer:levels 1.0-2.0 m:fcst time 6 hrs:from 202001010000\n431:Volumetric soil moisture content:Proportion (instant):regular_ll:depthBelowLandLayer:levels 1.0-2.0 m:fcst time 6 hrs:from 202001010000\n432:Water equivalent of accumulated snow depth (deprecated):kg m**-2 (instant):regular_ll:surface:level 0:fcst time 6 hrs:from 202001010000\n433:Snow depth:m (instant):regular_ll:surface:level 0:fcst time 6 hrs:from 202001010000\n434:Potential evaporation rate:W m**-2 (instant):regular_ll:surface:level 0:fcst time 6 hrs:from 202001010000\n435:2 metre temperature:K (instant):regular_ll:heightAboveGround:level 2 m:fcst time 6 hrs:from 202001010000\n436:Specific humidity:kg kg**-1 (instant):regular_ll:heightAboveGround:level 2 m:fcst time 6 hrs:from 202001010000\n437:2 metre dewpoint temperature:K (instant):regular_ll:heightAboveGround:level 2 m:fcst time 6 hrs:from 202001010000\n438:2 metre relative humidity:% (instant):regular_ll:heightAboveGround:level 2 m:fcst time 6 hrs:from 202001010000\n439:Apparent temperature:K (instant):regular_ll:heightAboveGround:level 2 m:fcst time 6 hrs:from 202001010000\n440:Maximum temperature:K (max):regular_ll:heightAboveGround:level 2 m:fcst time 0-6 hrs (max):from 202001010000\n441:Minimum temperature:K (min):regular_ll:heightAboveGround:level 2 m:fcst time 0-6 hrs (min):from 202001010000\n442:10 metre U wind component:m s**-1 (instant):regular_ll:heightAboveGround:level 10 m:fcst time 6 hrs:from 202001010000\n443:10 metre V wind component:m s**-1 (instant):regular_ll:heightAboveGround:level 10 m:fcst time 6 hrs:from 202001010000\n444:Ice growth rate:m s**-1 (instant):regular_ll:heightAboveSea:level 10 m:fcst time 6 hrs:from 202001010000\n445:Percent frozen precipitation:% (instant):regular_ll:surface:level 0:fcst time 6 hrs:from 202001010000\n446:Convective precipitation rate:kg m**-2 s**-1 (instant):regular_ll:surface:level 0:fcst time 6 hrs:from 202001010000\n447:Precipitation rate:kg m**-2 s**-1 (instant):regular_ll:surface:level 0:fcst time 6 hrs:from 202001010000\n448:Convective precipitation rate:kg m**-2 s**-1 (avg):regular_ll:surface:level 0:fcst time 0-6 hrs (avg):from 202001010000\n449:Precipitation rate:kg m**-2 s**-1 (avg):regular_ll:surface:level 0:fcst time 0-6 hrs (avg):from 202001010000\n450:Total Precipitation:kg m**-2 (accum):regular_ll:surface:level 0:fcst time 0-6 hrs (accum):from 202001010000\n451:Total Precipitation:kg m**-2 (accum):regular_ll:surface:level 0:fcst time 0-6 hrs (accum):from 202001010000\n452:Convective precipitation (water):kg m**-2 (accum):regular_ll:surface:level 0:fcst time 0-6 hrs (accum):from 202001010000\n453:Convective precipitation (water):kg m**-2 (accum):regular_ll:surface:level 0:fcst time 0-6 hrs (accum):from 202001010000\n454:Water runoff:kg m**-2 (accum):regular_ll:surface:level 0:fcst time 0-6 hrs (accum):from 202001010000\n455:Categorical snow:(Code table 4.222) (instant):regular_ll:surface:level 0:fcst time 6 hrs:from 202001010000\n456:Categorical ice pellets:(Code table 4.222) (instant):regular_ll:surface:level 0:fcst time 6 hrs:from 202001010000\n457:Categorical freezing rain:(Code table 4.222) (instant):regular_ll:surface:level 0:fcst time 6 hrs:from 202001010000\n458:Categorical rain:(Code table 4.222) (instant):regular_ll:surface:level 0:fcst time 6 hrs:from 202001010000\n459:Categorical snow:(Code table 4.222) (avg):regular_ll:surface:level 0:fcst time 0-6 hrs (avg):from 202001010000\n460:Categorical ice pellets:(Code table 4.222) (avg):regular_ll:surface:level 0:fcst time 0-6 hrs (avg):from 202001010000\n461:Categorical freezing rain:(Code table 4.222) (avg):regular_ll:surface:level 0:fcst time 0-6 hrs (avg):from 202001010000\n462:Categorical rain:(Code table 4.222) (avg):regular_ll:surface:level 0:fcst time 0-6 hrs (avg):from 202001010000\n463:Latent heat net flux:W m**-2 (avg):regular_ll:surface:level 0:fcst time 0-6 hrs (avg):from 202001010000\n464:Sensible heat net flux:W m**-2 (avg):regular_ll:surface:level 0:fcst time 0-6 hrs (avg):from 202001010000\n465:Ground heat flux:W m**-2 (avg):regular_ll:surface:level 0:fcst time 0-6 hrs (avg):from 202001010000\n466:Momentum flux, u component:N m**-2 (avg):regular_ll:surface:level 0:fcst time 0-6 hrs (avg):from 202001010000\n467:Momentum flux, v component:N m**-2 (avg):regular_ll:surface:level 0:fcst time 0-6 hrs (avg):from 202001010000\n468:Zonal flux of gravity wave stress:N m**-2 (avg):regular_ll:surface:level 0:fcst time 0-6 hrs (avg):from 202001010000\n469:Meridional flux of gravity wave stress:N m**-2 (avg):regular_ll:surface:level 0:fcst time 0-6 hrs (avg):from 202001010000\n470:Wilting Point:Fraction (instant):regular_ll:surface:level 0:fcst time 6 hrs:from 202001010000\n471:Field Capacity:Fraction (instant):regular_ll:surface:level 0:fcst time 6 hrs:from 202001010000\n472:Sunshine Duration:s (instant):regular_ll:surface:level 0:fcst time 6 hrs:from 202001010000\n473:Surface lifted index:K (instant):regular_ll:surface:level 0:fcst time 6 hrs:from 202001010000\n474:Convective available potential energy:J kg**-1 (instant):regular_ll:surface:level 0:fcst time 6 hrs:from 202001010000\n475:Convective inhibition:J kg**-1 (instant):regular_ll:surface:level 0:fcst time 6 hrs:from 202001010000\n476:Precipitable water:kg m**-2 (instant):regular_ll:unknown:level 0 considered as a single layer:fcst time 6 hrs:from 202001010000\n477:Cloud water:kg m**-2 (instant):regular_ll:unknown:level 0 considered as a single layer:fcst time 6 hrs:from 202001010000\n478:Relative humidity:% (instant):regular_ll:unknown:level 0 considered as a single layer:fcst time 6 hrs:from 202001010000\n479:Total ozone:DU (instant):regular_ll:unknown:level 0 considered as a single layer:fcst time 6 hrs:from 202001010000\n480:Total Cloud Cover:% (avg):regular_ll:unknown:level 0:fcst time 0-6 hrs (avg):from 202001010000\n481:Total Cloud Cover:% (avg):regular_ll:unknown:level 0:fcst time 0-6 hrs (avg):from 202001010000\n482:Total Cloud Cover:% (avg):regular_ll:unknown:level 0:fcst time 0-6 hrs (avg):from 202001010000\n483:Total Cloud Cover:% (avg):regular_ll:atmosphere:level 0 -:fcst time 0-6 hrs (avg):from 202001010000\n484:Pressure:Pa (instant):regular_ll:unknown:level 0:fcst time 6 hrs:from 202001010000\n485:Pressure:Pa (avg):regular_ll:unknown:level 0:fcst time 0-6 hrs (avg):from 202001010000\n486:Pressure:Pa (avg):regular_ll:unknown:level 0:fcst time 0-6 hrs (avg):from 202001010000\n487:Pressure:Pa (avg):regular_ll:unknown:level 0:fcst time 0-6 hrs (avg):from 202001010000\n488:Pressure:Pa (instant):regular_ll:unknown:level 0:fcst time 6 hrs:from 202001010000\n489:Pressure:Pa (avg):regular_ll:unknown:level 0:fcst time 0-6 hrs (avg):from 202001010000\n490:Pressure:Pa (avg):regular_ll:unknown:level 0:fcst time 0-6 hrs (avg):from 202001010000\n491:Pressure:Pa (avg):regular_ll:unknown:level 0:fcst time 0-6 hrs (avg):from 202001010000\n492:Temperature:K (avg):regular_ll:unknown:level 0:fcst time 0-6 hrs (avg):from 202001010000\n493:Temperature:K (avg):regular_ll:unknown:level 0:fcst time 0-6 hrs (avg):from 202001010000\n494:Temperature:K (avg):regular_ll:unknown:level 0:fcst time 0-6 hrs (avg):from 202001010000\n495:Total Cloud Cover:% (instant):regular_ll:unknown:level 0:fcst time 6 hrs:from 202001010000\n496:Total Cloud Cover:% (avg):regular_ll:unknown:level 0:fcst time 0-6 hrs (avg):from 202001010000\n497:Cloud work function:J kg**-1 (avg):regular_ll:unknown:level 0 considered as a single layer:fcst time 0-6 hrs (avg):from 202001010000\n498:Downward short-wave radiation flux:W m**-2 (avg):regular_ll:surface:level 0:fcst time 0-6 hrs (avg):from 202001010000\n499:Downward long-wave radiation flux:W m**-2 (avg):regular_ll:surface:level 0:fcst time 0-6 hrs (avg):from 202001010000\n500:Upward short-wave radiation flux:W m**-2 (avg):regular_ll:surface:level 0:fcst time 0-6 hrs (avg):from 202001010000\n501:Upward long-wave radiation flux:W m**-2 (avg):regular_ll:surface:level 0:fcst time 0-6 hrs (avg):from 202001010000\n502:Upward short-wave radiation flux:W m**-2 (avg):regular_ll:nominalTop:level 0:fcst time 0-6 hrs (avg):from 202001010000\n503:Upward long-wave radiation flux:W m**-2 (avg):regular_ll:nominalTop:level 0:fcst time 0-6 hrs (avg):from 202001010000\n504:Storm relative helicity:J kg**-1 (instant):regular_ll:heightAboveGroundLayer:levels 3000-0 m:fcst time 6 hrs:from 202001010000\n505:U-component storm motion:m s**-1 (instant):regular_ll:heightAboveGroundLayer:levels 6000-0 m:fcst time 6 hrs:from 202001010000\n506:V-component storm motion:m s**-1 (instant):regular_ll:heightAboveGroundLayer:levels 6000-0 m:fcst time 6 hrs:from 202001010000\n507:Pressure:Pa (instant):regular_ll:tropopause:level 0:fcst time 6 hrs:from 202001010000\n508:ICAO Standard Atmosphere reference height:m (instant):regular_ll:tropopause:level 0:fcst time 6 hrs:from 202001010000\n509:Geopotential Height:gpm (instant):regular_ll:tropopause:level 0:fcst time 6 hrs:from 202001010000\n510:Temperature:K (instant):regular_ll:tropopause:level 0:fcst time 6 hrs:from 202001010000\n511:U component of wind:m s**-1 (instant):regular_ll:tropopause:level 0:fcst time 6 hrs:from 202001010000\n512:V component of wind:m s**-1 (instant):regular_ll:tropopause:level 0:fcst time 6 hrs:from 202001010000\n513:Vertical speed shear:s**-1 (instant):regular_ll:tropopause:level 0:fcst time 6 hrs:from 202001010000\n514:Pressure:Pa (instant):regular_ll:maxWind:level 0:fcst time 6 hrs:from 202001010000\n515:ICAO Standard Atmosphere reference height:m (instant):regular_ll:maxWind:level 0:fcst time 6 hrs:from 202001010000\n516:Geopotential Height:gpm (instant):regular_ll:maxWind:level 0:fcst time 6 hrs:from 202001010000\n517:U component of wind:m s**-1 (instant):regular_ll:maxWind:level 0:fcst time 6 hrs:from 202001010000\n518:V component of wind:m s**-1 (instant):regular_ll:maxWind:level 0:fcst time 6 hrs:from 202001010000\n519:Temperature:K (instant):regular_ll:maxWind:level 0:fcst time 6 hrs:from 202001010000\n520:U component of wind:m s**-1 (instant):regular_ll:heightAboveGround:level 20 m:fcst time 6 hrs:from 202001010000\n521:V component of wind:m s**-1 (instant):regular_ll:heightAboveGround:level 20 m:fcst time 6 hrs:from 202001010000\n522:U component of wind:m s**-1 (instant):regular_ll:heightAboveGround:level 30 m:fcst time 6 hrs:from 202001010000\n523:V component of wind:m s**-1 (instant):regular_ll:heightAboveGround:level 30 m:fcst time 6 hrs:from 202001010000\n524:U component of wind:m s**-1 (instant):regular_ll:heightAboveGround:level 40 m:fcst time 6 hrs:from 202001010000\n525:V component of wind:m s**-1 (instant):regular_ll:heightAboveGround:level 40 m:fcst time 6 hrs:from 202001010000\n526:U component of wind:m s**-1 (instant):regular_ll:heightAboveGround:level 50 m:fcst time 6 hrs:from 202001010000\n527:V component of wind:m s**-1 (instant):regular_ll:heightAboveGround:level 50 m:fcst time 6 hrs:from 202001010000\n528:Temperature:K (instant):regular_ll:heightAboveGround:level 80 m:fcst time 6 hrs:from 202001010000\n529:Specific humidity:kg kg**-1 (instant):regular_ll:heightAboveGround:level 80 m:fcst time 6 hrs:from 202001010000\n530:Pressure:Pa (instant):regular_ll:heightAboveGround:level 80 m:fcst time 6 hrs:from 202001010000\n531:U component of wind:m s**-1 (instant):regular_ll:heightAboveGround:level 80 m:fcst time 6 hrs:from 202001010000\n532:V component of wind:m s**-1 (instant):regular_ll:heightAboveGround:level 80 m:fcst time 6 hrs:from 202001010000\n533:Temperature:K (instant):regular_ll:heightAboveGround:level 100 m:fcst time 6 hrs:from 202001010000\n534:100 metre U wind component:m s**-1 (instant):regular_ll:heightAboveGround:level 100 m:fcst time 6 hrs:from 202001010000\n535:100 metre V wind component:m s**-1 (instant):regular_ll:heightAboveGround:level 100 m:fcst time 6 hrs:from 202001010000\n536:Temperature:K (instant):regular_ll:heightAboveSea:level 1829 m:fcst time 6 hrs:from 202001010000\n537:U component of wind:m s**-1 (instant):regular_ll:heightAboveSea:level 1829 m:fcst time 6 hrs:from 202001010000\n538:V component of wind:m s**-1 (instant):regular_ll:heightAboveSea:level 1829 m:fcst time 6 hrs:from 202001010000\n539:Temperature:K (instant):regular_ll:heightAboveSea:level 2743 m:fcst time 6 hrs:from 202001010000\n540:U component of wind:m s**-1 (instant):regular_ll:heightAboveSea:level 2743 m:fcst time 6 hrs:from 202001010000\n541:V component of wind:m s**-1 (instant):regular_ll:heightAboveSea:level 2743 m:fcst time 6 hrs:from 202001010000\n542:Temperature:K (instant):regular_ll:heightAboveSea:level 3658 m:fcst time 6 hrs:from 202001010000\n543:U component of wind:m s**-1 (instant):regular_ll:heightAboveSea:level 3658 m:fcst time 6 hrs:from 202001010000\n544:V component of wind:m s**-1 (instant):regular_ll:heightAboveSea:level 3658 m:fcst time 6 hrs:from 202001010000\n545:Geopotential Height:gpm (instant):regular_ll:isothermZero:level 0:fcst time 6 hrs:from 202001010000\n546:Relative humidity:% (instant):regular_ll:isothermZero:level 0:fcst time 6 hrs:from 202001010000\n547:Geopotential Height:gpm (instant):regular_ll:unknown:level 0:fcst time 6 hrs:from 202001010000\n548:Relative humidity:% (instant):regular_ll:unknown:level 0:fcst time 6 hrs:from 202001010000\n549:Temperature:K (instant):regular_ll:pressureFromGroundLayer:levels 3000-0 Pa:fcst time 6 hrs:from 202001010000\n550:Relative humidity:% (instant):regular_ll:pressureFromGroundLayer:levels 3000-0 Pa:fcst time 6 hrs:from 202001010000\n551:Specific humidity:kg kg**-1 (instant):regular_ll:pressureFromGroundLayer:levels 3000-0 Pa:fcst time 6 hrs:from 202001010000\n552:U component of wind:m s**-1 (instant):regular_ll:pressureFromGroundLayer:levels 3000-0 Pa:fcst time 6 hrs:from 202001010000\n553:V component of wind:m s**-1 (instant):regular_ll:pressureFromGroundLayer:levels 3000-0 Pa:fcst time 6 hrs:from 202001010000\n554:Best (4-layer) lifted index:K (instant):regular_ll:surface:level 0:fcst time 6 hrs:from 202001010000\n555:Convective available potential energy:J kg**-1 (instant):regular_ll:pressureFromGroundLayer:levels 18000-0 Pa:fcst time 6 hrs:from 202001010000\n556:Convective inhibition:J kg**-1 (instant):regular_ll:pressureFromGroundLayer:levels 18000-0 Pa:fcst time 6 hrs:from 202001010000\n557:Planetary boundary layer height:m (instant):regular_ll:surface:level 0:fcst time 6 hrs:from 202001010000\n558:Relative humidity:% (instant):regular_ll:sigmaLayer:levels 0.33-1.0 sigma value:fcst time 6 hrs:from 202001010000\n559:Relative humidity:% (instant):regular_ll:sigmaLayer:levels 0.44-1.0 sigma value:fcst time 6 hrs:from 202001010000\n560:Relative humidity:% (instant):regular_ll:sigmaLayer:levels 0.72-0.94 sigma value:fcst time 6 hrs:from 202001010000\n561:Relative humidity:% (instant):regular_ll:sigmaLayer:levels 0.44-0.72 sigma value:fcst time 6 hrs:from 202001010000\n562:Temperature:K (instant):regular_ll:sigma:level 0.995 sigma value:fcst time 6 hrs:from 202001010000\n563:Potential temperature:K (instant):regular_ll:sigma:level 0.995 sigma value:fcst time 6 hrs:from 202001010000\n564:Relative humidity:% (instant):regular_ll:sigma:level 0.995 sigma value:fcst time 6 hrs:from 202001010000\n565:U component of wind:m s**-1 (instant):regular_ll:sigma:level 0.995 sigma value:fcst time 6 hrs:from 202001010000\n566:V component of wind:m s**-1 (instant):regular_ll:sigma:level 0.995 sigma value:fcst time 6 hrs:from 202001010000\n567:Vertical velocity:Pa s**-1 (instant):regular_ll:sigma:level 0.995 sigma value:fcst time 6 hrs:from 202001010000\n568:Convective available potential energy:J kg**-1 (instant):regular_ll:pressureFromGroundLayer:levels 25500-0 Pa:fcst time 6 hrs:from 202001010000\n569:Convective inhibition:J kg**-1 (instant):regular_ll:pressureFromGroundLayer:levels 25500-0 Pa:fcst time 6 hrs:from 202001010000\n570:Pressure of level from which parcel was lifted:Pa (instant):regular_ll:pressureFromGroundLayer:levels 25500-0 Pa:fcst time 6 hrs:from 202001010000\n571:Land-sea mask:(0 - 1) (instant):regular_ll:surface:level 0:fcst time 6 hrs:from 202001010000\n572:Sea ice area fraction:(0 - 1) (instant):regular_ll:surface:level 0:fcst time 6 hrs:from 202001010000\n573:Albedo:% (avg):regular_ll:surface:level 0:fcst time 0-6 hrs (avg):from 202001010000\n574:U component of wind:m s**-1 (instant):regular_ll:potentialVorticity:level 2e-06 K m2 kg-1 s-1:fcst time 6 hrs:from 202001010000\n575:V component of wind:m s**-1 (instant):regular_ll:potentialVorticity:level 2e-06 K m2 kg-1 s-1:fcst time 6 hrs:from 202001010000\n576:Temperature:K (instant):regular_ll:potentialVorticity:level 2e-06 K m2 kg-1 s-1:fcst time 6 hrs:from 202001010000\n577:Geopotential Height:gpm (instant):regular_ll:potentialVorticity:level 2e-06 K m2 kg-1 s-1:fcst time 6 hrs:from 202001010000\n578:Pressure:Pa (instant):regular_ll:potentialVorticity:level 2e-06 K m2 kg-1 s-1:fcst time 6 hrs:from 202001010000\n579:Vertical speed shear:s**-1 (instant):regular_ll:potentialVorticity:level 2e-06 K m2 kg-1 s-1:fcst time 6 hrs:from 202001010000\n580:U component of wind:m s**-1 (instant):regular_ll:potentialVorticity:level -2.147481648 K m2 kg-1 s-1:fcst time 6 hrs:from 202001010000\n581:V component of wind:m s**-1 (instant):regular_ll:potentialVorticity:level -2.147481648 K m2 kg-1 s-1:fcst time 6 hrs:from 202001010000\n582:Temperature:K (instant):regular_ll:potentialVorticity:level -2.147481648 K m2 kg-1 s-1:fcst time 6 hrs:from 202001010000\n583:Geopotential Height:gpm (instant):regular_ll:potentialVorticity:level -2.147481648 K m2 kg-1 s-1:fcst time 6 hrs:from 202001010000\n584:Pressure:Pa (instant):regular_ll:potentialVorticity:level -2.147481648 K m2 kg-1 s-1:fcst time 6 hrs:from 202001010000\n585:Vertical speed shear:s**-1 (instant):regular_ll:potentialVorticity:level -2.147481648 K m2 kg-1 s-1:fcst time 6 hrs:from 202001010000\n586:Pressure reduced to MSL:Pa (instant):regular_ll:meanSea:level 0:fcst time 6 hrs:from 202001010000\n587:5-wave geopotential height:gpm (instant):regular_ll:isobaricInhPa:level 50000 Pa:fcst time 6 hrs:from 202001010000\n588:Land-sea coverage (nearest neighbor) [land=1,sea=0]:~ (instant):regular_ll:surface:level 0:fcst time 6 hrs:from 202001010000\n"
    }
   ],
   "source": [
    "grbs.seek(0)\n",
    "for grb in grbs:\n",
    "    print(grb)"
   ]
  },
  {
   "cell_type": "code",
   "execution_count": 13,
   "metadata": {},
   "outputs": [],
   "source": [
    "data = grbs.select(name='Total Precipitation')"
   ]
  },
  {
   "cell_type": "code",
   "execution_count": 14,
   "metadata": {},
   "outputs": [
    {
     "output_type": "stream",
     "name": "stdout",
     "text": "[450:Total Precipitation:kg m**-2 (accum):regular_ll:surface:level 0:fcst time 0-6 hrs (accum):from 202001010000, 451:Total Precipitation:kg m**-2 (accum):regular_ll:surface:level 0:fcst time 0-6 hrs (accum):from 202001010000] <class 'pygrib.gribmessage'>\n"
    }
   ],
   "source": [
    "print(data, type(data[0]))"
   ]
  },
  {
   "cell_type": "code",
   "execution_count": 11,
   "metadata": {},
   "outputs": [
    {
     "output_type": "execute_result",
     "data": {
      "text/plain": "array([[0.125, 0.125, 0.125, ..., 0.125, 0.125, 0.125],\n       [0.   , 0.   , 0.   , ..., 0.   , 0.   , 0.   ],\n       [0.   , 0.   , 0.   , ..., 0.   , 0.   , 0.   ],\n       ...,\n       [0.   , 0.   , 0.   , ..., 0.   , 0.   , 0.   ],\n       [0.   , 0.   , 0.   , ..., 0.   , 0.   , 0.   ],\n       [0.   , 0.   , 0.   , ..., 0.   , 0.   , 0.   ]], dtype=float32)"
     },
     "metadata": {},
     "execution_count": 11
    }
   ],
   "source": [
    "data[1].values"
   ]
  },
  {
   "cell_type": "code",
   "execution_count": null,
   "metadata": {},
   "outputs": [],
   "source": []
  }
 ],
 "metadata": {
  "language_info": {
   "codemirror_mode": {
    "name": "ipython",
    "version": 3
   },
   "file_extension": ".py",
   "mimetype": "text/x-python",
   "name": "python",
   "nbconvert_exporter": "python",
   "pygments_lexer": "ipython3",
   "version": "3.7.6-final"
  },
  "orig_nbformat": 2,
  "kernelspec": {
   "name": "python3",
   "display_name": "Python 3"
  }
 },
 "nbformat": 4,
 "nbformat_minor": 2
}