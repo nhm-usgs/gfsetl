{
 "cells": [
  {
   "cell_type": "code",
   "execution_count": 1,
   "metadata": {},
   "outputs": [],
   "source": [
    "from datetime import datetime, timedelta\n",
    "import cartopy.crs as ccrs\n",
    "import cartopy.feature as cfeature\n",
    "import matplotlib.pyplot as plt\n",
    "from metpy.units import units\n",
    "from netCDF4 import num2date\n",
    "import numpy as np\n",
    "import scipy.ndimage as ndimage\n",
    "from siphon.catalog import TDSCatalog\n",
    "from siphon.ncss import NCSS\n",
    "import matplotlib.pyplot as plt\n",
    "import metpy.calc as mpcalc\n",
    "import xarray as xr\n",
    "from pathlib import Path\n",
    "from requests.exceptions import HTTPError\n",
    "from xarray.backends import NetCDF4DataStore"
   ]
  },
  {
   "cell_type": "code",
   "execution_count": 2,
   "metadata": {},
   "outputs": [],
   "source": [
    "year = 2020\n",
    "month = 1\n",
    "day = 1\n",
    "hour = 0\n",
    "\n",
    "dt = datetime(year, month, day, hour)\n",
    "dt2 = datetime(year, month, day+1, hour)"
   ]
  },
  {
   "cell_type": "code",
   "execution_count": 3,
   "metadata": {},
   "outputs": [
    {
     "output_type": "stream",
     "name": "stdout",
     "text": "2020-01-01 05:00:00 2020-01-01 07:00:00 6 [[gfsanl_4_20200101_0600_006.grb2, gfsanl_4_20200101_0600_003.grb2, gfsanl_4_20200101_0600_000.grb2]]\n2020-01-01 11:00:00 2020-01-01 13:00:00 12 [[gfsanl_4_20200101_0600_006.grb2, gfsanl_4_20200101_0600_003.grb2, gfsanl_4_20200101_0600_000.grb2], [gfsanl_4_20200101_1200_006.grb2, gfsanl_4_20200101_1200_003.grb2, gfsanl_4_20200101_1200_000.grb2]]\n2020-01-01 17:00:00 2020-01-01 19:00:00 18 [[gfsanl_4_20200101_0600_006.grb2, gfsanl_4_20200101_0600_003.grb2, gfsanl_4_20200101_0600_000.grb2], [gfsanl_4_20200101_1200_006.grb2, gfsanl_4_20200101_1200_003.grb2, gfsanl_4_20200101_1200_000.grb2], [gfsanl_4_20200101_1800_006.grb2, gfsanl_4_20200101_1800_003.grb2, gfsanl_4_20200101_1800_000.grb2]]\n2020-01-01 23:00:00 2020-01-02 01:00:00 24 [[gfsanl_4_20200101_0600_006.grb2, gfsanl_4_20200101_0600_003.grb2, gfsanl_4_20200101_0600_000.grb2], [gfsanl_4_20200101_1200_006.grb2, gfsanl_4_20200101_1200_003.grb2, gfsanl_4_20200101_1200_000.grb2], [gfsanl_4_20200101_1800_006.grb2, gfsanl_4_20200101_1800_003.grb2, gfsanl_4_20200101_1800_000.grb2], []]\n[[gfsanl_4_20200101_0600_006.grb2, gfsanl_4_20200101_0600_003.grb2, gfsanl_4_20200101_0600_000.grb2], [gfsanl_4_20200101_1200_006.grb2, gfsanl_4_20200101_1200_003.grb2, gfsanl_4_20200101_1200_000.grb2], [gfsanl_4_20200101_1800_006.grb2, gfsanl_4_20200101_1800_003.grb2, gfsanl_4_20200101_1800_000.grb2], []]\n"
    }
   ],
   "source": [
    "# Read NARR Data from THREDDS server\n",
    "base_url = 'https://www.ncei.noaa.gov/thredds/catalog/model-gfs-g4-anl-files'\n",
    "\n",
    "# Programmatically generate the URL to the day of data we want\n",
    "cat = TDSCatalog(f'{base_url}{dt:%Y%m}/{dt:%Y%m%d}/catalog.xml')\n",
    "hours = [6,12,18,24]\n",
    "precip_files = []\n",
    "for hour in hours:\n",
    "    time1 = dt + timedelta(hours=hour-1)\n",
    "    time2 = dt + timedelta(hours=hour+1)\n",
    "    precip_files.append(cat.datasets.filter_time_range(time1,time2))\n",
    "    print(time1, time2, hour, precip_files)\n",
    "    # ncss = precip_files[-1].subset()\n",
    "    # query = ncss.query().lonlat_box(north=54, south=20, east=-65, west=-126)\n",
    "    # query.all_times().variables('Total_precipitation_surface_6_Hour_Accumulation').add_lonlat() .accept('netcdf')\n",
    "    # print(ncss)\n",
    "print(precip_files)"
   ]
  },
  {
   "cell_type": "markdown",
   "metadata": {},
   "source": [
    "# Read 2 days of downloaded precip data"
   ]
  },
  {
   "cell_type": "code",
   "execution_count": 4,
   "metadata": {},
   "outputs": [
    {
     "output_type": "stream",
     "name": "stdout",
     "text": "[gfsanl_4_20200101_1800_006.grb2, gfsanl_4_20200101_1800_003.grb2, gfsanl_4_20200101_1800_000.grb2, gfsanl_4_20200101_1200_006.grb2, gfsanl_4_20200101_1200_003.grb2, gfsanl_4_20200101_1200_000.grb2, gfsanl_4_20200101_0600_006.grb2, gfsanl_4_20200101_0600_003.grb2, gfsanl_4_20200101_0600_000.grb2, gfsanl_4_20200101_0000_006.grb2, gfsanl_4_20200101_0000_003.grb2, gfsanl_4_20200101_0000_000.grb2]\n2020-01-01 00:00:00 2020-01-02 00:00:00\ngfsanl_4_20200101_1800_006.grb2\nHTTP error occured: gfsanl_4_20200101_1800_003.grb2\nHTTP error occured: gfsanl_4_20200101_1800_000.grb2\ngfsanl_4_20200101_1200_006.grb2\nHTTP error occured: gfsanl_4_20200101_1200_003.grb2\nHTTP error occured: gfsanl_4_20200101_1200_000.grb2\ngfsanl_4_20200101_0600_006.grb2\nHTTP error occured: gfsanl_4_20200101_0600_003.grb2\nHTTP error occured: gfsanl_4_20200101_0600_000.grb2\ngfsanl_4_20200101_0000_006.grb2\nHTTP error occured: gfsanl_4_20200101_0000_003.grb2\nHTTP error occured: gfsanl_4_20200101_0000_000.grb2\n"
    }
   ],
   "source": [
    "\n",
    "base_url = 'https://www.ncei.noaa.gov/thredds/catalog/model-gfs-g4-anl-files'\n",
    "\n",
    "# Programmatically generate the URL to the day of data we want\n",
    "cat = TDSCatalog(f'{base_url}{dt:%Y%m}/{dt:%Y%m%d}/catalog.xml')\n",
    "ds = cat.datasets.filter_time_range(dt, dt2)\n",
    "print(ds)\n",
    "print(dt, dt2)\n",
    "for file in ds:\n",
    "    ncss = None\n",
    "    # print(file)\n",
    "    try:\n",
    "        ncss = file.subset()\n",
    "        query = ncss.query().lonlat_box(north=54, south=20, east=-65, west=-126)\n",
    "        query.variables('Precipitation_rate_surface_6_Hour_Average').add_lonlat().accept('netcdf')\n",
    "        data = ncss.get_data(query)\n",
    "        print(file, flush=True)\n",
    "    except HTTPError as http_err:\n",
    "        print(f'HTTP error occured: {file}', flush=True)"
   ]
  },
  {
   "cell_type": "code",
   "execution_count": 4,
   "metadata": {},
   "outputs": [
    {
     "output_type": "stream",
     "name": "stdout",
     "text": "gfsanl_4_20200101_1800_006.grb2\n<class 'siphon.catalog.Dataset'> None\ngfsanl_4_20200101_1800_003.grb2\n<class 'siphon.catalog.Dataset'> None\ngfsanl_4_20200101_1800_000.grb2\n<class 'siphon.catalog.Dataset'> None\ngfsanl_4_20200101_1200_006.grb2\n<class 'siphon.catalog.Dataset'> None\ngfsanl_4_20200101_1200_003.grb2\n<class 'siphon.catalog.Dataset'> None\ngfsanl_4_20200101_1200_000.grb2\n<class 'siphon.catalog.Dataset'> None\ngfsanl_4_20200101_0600_006.grb2\n<class 'siphon.catalog.Dataset'> None\ngfsanl_4_20200101_0600_003.grb2\n<class 'siphon.catalog.Dataset'> None\ngfsanl_4_20200101_0600_000.grb2\n<class 'siphon.catalog.Dataset'> None\ngfsanl_4_20200101_0000_006.grb2\n<class 'siphon.catalog.Dataset'> None\ngfsanl_4_20200101_0000_003.grb2\n<class 'siphon.catalog.Dataset'> None\ngfsanl_4_20200101_0000_000.grb2\n<class 'siphon.catalog.Dataset'> None\n"
    }
   ],
   "source": [
    "for dataset in ds:\n",
    "    print(type(dataset), print(dataset))"
   ]
  },
  {
   "cell_type": "code",
   "execution_count": null,
   "metadata": {},
   "outputs": [],
   "source": []
  }
 ],
 "metadata": {
  "language_info": {
   "codemirror_mode": {
    "name": "ipython",
    "version": 3
   },
   "file_extension": ".py",
   "mimetype": "text/x-python",
   "name": "python",
   "nbconvert_exporter": "python",
   "pygments_lexer": "ipython3",
   "version": "3.7.6-final"
  },
  "orig_nbformat": 2,
  "kernelspec": {
   "name": "python3",
   "display_name": "Python 3"
  }
 },
 "nbformat": 4,
 "nbformat_minor": 2
}