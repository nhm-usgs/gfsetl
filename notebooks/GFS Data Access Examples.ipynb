{
 "cells": [
  {
   "cell_type": "markdown",
   "metadata": {},
   "source": [
    "# GFS Analysis Simulation Data access with Unidata siphon package\n",
    "\n",
    "This notebook explores different ways to access GFS Analysis simulations.  The period of record online for these data sets is 2007-01-01 to present.  The simulations are run 4 times per day - consider these model states.  Following each simulation 2 forecast runs are made at 003 and 006 hours consider these forecasts.  The variables for the model state and forecast are slightly different.  This notebook explores the different data available that might be used for NHM calibration in the model-state and forecast.\n",
    "\n",
    "Using <https://unidata.github.io/python-gallery/examples/MSLP_temp_winds.html> as a resource"
   ]
  },
  {
   "cell_type": "code",
   "execution_count": 1,
   "metadata": {},
   "outputs": [],
   "source": [
    "from datetime import datetime\n",
    "import cartopy.crs as ccrs\n",
    "import cartopy.feature as cfeature\n",
    "import matplotlib.pyplot as plt\n",
    "from metpy.units import units\n",
    "from netCDF4 import num2date\n",
    "import numpy as np\n",
    "import scipy.ndimage as ndimage\n",
    "from siphon.ncss import NCSS"
   ]
  },
  {
   "cell_type": "markdown",
   "metadata": {},
   "source": [
    "# Open Model-state Simulation\n",
    "\n",
    "Model-states, run 4 times per day at _000, _006, _012, and _018 hours (UTC I believe).  Below we are loading the first daily simulation _000\n",
    "\n",
    "The available variables are printed and the likely variables to be used in the NHM are queried.  Another view of this can be found by going to the netCDFSubset catalog at <https://www.ncei.noaa.gov/thredds/catalog/model-gfs-g4-anl-files/catalog.html> and then picking a date."
   ]
  },
  {
   "cell_type": "code",
   "execution_count": 2,
   "metadata": {},
   "outputs": [
    {
     "name": "stdout",
     "output_type": "stream",
     "text": [
      "https://www.ncei.noaa.gov/thredds/ncss/model-gfs-g4-anl-files/202005/20200506/gfsanl_4_20200506_0000_000.grb2\n",
      "{'Pressure_height_above_ground', 'Sunshine_Duration_surface', 'Rain_mixing_ratio_hybrid', 'Relative_humidity_isobaric', 'Temperature_potential_vorticity_surface', 'v-component_of_wind_height_above_ground', 'Ice_cover_surface', 'Vertical_velocity_pressure_sigma', 'Land-sea_coverage_nearest_neighbor_land1sea0_surface', 'Best_4_layer_Lifted_Index_surface', 'v-component_of_wind_planetary_boundary', '5-Wave_Geopotential_Height_isobaric', 'Geopotential_height_tropopause', 'Graupel_snow_pellets_hybrid', 'u-component_of_wind_sigma', 'Pressure_of_level_from_which_parcel_was_lifted_pressure_difference_layer', 'Potential_temperature_sigma', 'Temperature_maximum_wind', 'Composite_reflectivity_entire_atmosphere', 'Geopotential_height_surface', 'ICAO_Standard_Atmosphere_Reference_Height_maximum_wind', 'Categorical_Freezing_Rain_surface', 'Pressure_tropopause', 'Dewpoint_temperature_height_above_ground', 'Relative_humidity_height_above_ground', 'u-component_of_wind_planetary_boundary', 'Geopotential_height_isobaric', 'Snow_depth_surface', 'Per_cent_frozen_precipitation_surface', 'Vertical_velocity_geometric_isobaric', 'Pressure_surface', 'Precipitation_rate_surface', 'Wilting_Point_surface', 'Ozone_Mixing_Ratio_isobaric', 'Convective_available_potential_energy_pressure_difference_layer', 'Geopotential_height_potential_vorticity_surface', 'v-component_of_wind_pressure_difference_layer', 'Categorical_Ice_Pellets_surface', 'v-component_of_wind_tropopause', 'u-component_of_wind_height_above_ground', 'Pressure_potential_vorticity_surface', 'v-component_of_wind_isobaric', 'Ventilation_Rate_planetary_boundary', 'Geopotential_height_maximum_wind', 'ICAO_Standard_Atmosphere_Reference_Height_tropopause', 'v-component_of_wind_altitude_above_msl', 'Relative_humidity_zeroDegC_isotherm', 'Ice_growth_rate_altitude_above_msl', 'Field_Capacity_surface', 'Temperature_height_above_ground', 'Total_cloud_cover_isobaric', 'u-component_of_wind_tropopause', 'Land_cover_0__sea_1__land_surface', 'v-component_of_wind_maximum_wind', 'Snow_mixing_ratio_hybrid', 'Convective_inhibition_surface', 'Relative_humidity_entire_atmosphere_single_layer', 'Geopotential_height_highest_tropospheric_freezing', 'Temperature_tropopause', 'Vertical_Speed_Shear_tropopause', 'Temperature_altitude_above_msl', 'Relative_humidity_highest_tropospheric_freezing', 'Vertical_Speed_Shear_potential_vorticity_surface', 'Temperature_pressure_difference_layer', 'Categorical_Rain_surface', 'Relative_humidity_pressure_difference_layer', 'Cloud_water_entire_atmosphere_single_layer', 'Pressure_maximum_wind', 'Precipitable_water_entire_atmosphere_single_layer', 'Specific_humidity_pressure_difference_layer', 'Convective_available_potential_energy_surface', 'Snow_mixing_ratio_isobaric', 'Relative_humidity_sigma_layer', 'Temperature_isobaric', 'Ice_water_mixing_ratio_isobaric', 'Temperature_surface', 'Specific_humidity_height_above_ground', 'Soil_temperature_depth_below_surface_layer', 'Rain_mixing_ratio_isobaric', 'Ice_water_mixing_ratio_hybrid', 'v-component_of_wind_sigma', 'Relative_humidity_sigma', 'Geopotential_height_zeroDegC_isotherm', 'Apparent_temperature_height_above_ground', 'Cloud_mixing_ratio_isobaric', 'Haines_index_surface', 'Surface_Lifted_Index_surface', 'Categorical_Snow_surface', 'u-component_of_wind_maximum_wind', 'Storm_relative_helicity_height_above_ground_layer', 'Vertical_velocity_pressure_isobaric', 'u-component_of_wind_pressure_difference_layer', 'Graupel_snow_pellets_isobaric', 'Planetary_Boundary_Layer_Height_surface', 'Volumetric_Soil_Moisture_Content_depth_below_surface_layer', 'Convective_inhibition_pressure_difference_layer', 'u-component_of_wind_altitude_above_msl', 'u-component_of_wind_isobaric', 'Cloud_mixing_ratio_hybrid', 'v-component_of_wind_potential_vorticity_surface', 'Wind_speed_gust_surface', 'U-Component_Storm_Motion_height_above_ground_layer', 'MSLP_Eta_model_reduction_msl', 'Absolute_vorticity_isobaric', 'u-component_of_wind_potential_vorticity_surface', 'Water_equivalent_of_accumulated_snow_depth_surface', 'V-Component_Storm_Motion_height_above_ground_layer', 'Total_ozone_entire_atmosphere_single_layer', 'Pressure_reduced_to_MSL_msl', 'Visibility_surface', 'Temperature_sigma'}\n"
     ]
    },
    {
     "data": {
      "text/plain": [
       "var=Temperature_surface&var=v-component_of_wind_sigma&var=Relative_humidity_sigma&var=u-component_of_wind_sigma&var=Precipitation_rate_surface&time=2020-05-06T00%3A00%3A00&west=-126&east=-65&south=20&north=54&accept=netcdf"
      ]
     },
     "execution_count": 2,
     "metadata": {},
     "output_type": "execute_result"
    }
   ],
   "source": [
    "base_url = 'https://www.ncei.noaa.gov/thredds/ncss/model-gfs-g4-anl-files/'\n",
    "dt = datetime(2020, 5, 6, 0)\n",
    "ncss = NCSS('{}{dt:%Y%m}/{dt:%Y%m%d}/gfsanl_4_{dt:%Y%m%d}'\n",
    "            '_{dt:%H}00_000.grb2'.format(base_url, dt=dt))\n",
    "print('{}{dt:%Y%m}/{dt:%Y%m%d}/gfsanl_4_{dt:%Y%m%d}_{dt:%H}00_000.grb2'.format(base_url, dt=dt))\n",
    "\n",
    "# Create lat/lon box for location you want to get data for\n",
    "query = ncss.query().time(dt)\n",
    "# These are the same lat/lon boundary I use for the daymet data\n",
    "query.lonlat_box(north=54, south=20, east=-65, west=-126)\n",
    "query.accept('netcdf')\n",
    "print(ncss.variables)\n",
    "# Request data for model \"surface\" data\n",
    "query.variables('Temperature_surface',\n",
    "               'Relative_humidity_sigma',\n",
    "               'Precipitation_rate_surface',\n",
    "               'u-component_of_wind_sigma',\n",
    "               'v-component_of_wind_sigma')\n",
    "\n",
    "# data = ncss.get_data(query)"
   ]
  },
  {
   "cell_type": "markdown",
   "metadata": {},
   "source": [
    "# Open Model-forecast Simulation\n",
    "\n",
    "Model-states, run 4 times per day at _000, _006, _012, and _018 hours (UTC I believe).  For each model state 2 forecast simultions at _003 and _006 hours are run.  These simulations have variables not available in the model-state simulations that could be used to get daily tmax, tmin, and precip for NHM runs\n",
    "\n",
    "The available variables are printed and the likely variables to be used in the NHM are queried.  Another view of this can be found by going to the netCDFSubset catalog at <https://www.ncei.noaa.gov/thredds/catalog/model-gfs-g4-anl-files/catalog.html> and then picking a date and forecast result.  Note the _003.grb2 in the URL below."
   ]
  },
  {
   "cell_type": "code",
   "execution_count": 3,
   "metadata": {},
   "outputs": [
    {
     "name": "stdout",
     "output_type": "stream",
     "text": [
      "https://www.ncei.noaa.gov/thredds/ncss/model-gfs-g4-anl-files/202005/20200506/gfsanl_4_20200506_0000_003.grb2\n",
      "{'Minimum_temperature_height_above_ground_3_Hour_Minimum', 'Downward_Long-Wave_Radp_Flux_surface_3_Hour_Average', 'Downward_Short-Wave_Radiation_Flux_surface_3_Hour_Average', 'Ice_cover_surface', 'Categorical_Freezing_Rain_surface_3_Hour_Average', 'Icing_severity_isobaric', 'v-component_of_wind_planetary_boundary', 'Best_4_layer_Lifted_Index_surface', '5-Wave_Geopotential_Height_isobaric', 'Geopotential_height_tropopause', 'u-component_of_wind_sigma', 'Zonal_Flux_of_Gravity_Wave_Stress_surface_3_Hour_Average', 'Composite_reflectivity_entire_atmosphere', 'Upward_Short-Wave_Radiation_Flux_atmosphere_top_3_Hour_Average', 'Pressure_low_cloud_top_3_Hour_Average', 'u-component_of_wind_planetary_boundary', 'Pressure_middle_cloud_top_3_Hour_Average', 'Snow_depth_surface', 'Per_cent_frozen_precipitation_surface', 'Pressure_surface', 'Precipitation_rate_surface', 'Convective_available_potential_energy_pressure_difference_layer', 'v-component_of_wind_pressure_difference_layer', 'u-component_of_wind_height_above_ground', 'Pressure_potential_vorticity_surface', 'v-component_of_wind_isobaric', 'Ventilation_Rate_planetary_boundary', 'Water_runoff_surface_3_Hour_Accumulation', 'v-component_of_wind_altitude_above_msl', 'Total_cloud_cover_convective_cloud', 'Precipitation_rate_surface_3_Hour_Average', 'Pressure_high_cloud_bottom_3_Hour_Average', 'Field_Capacity_surface', 'Ice_growth_rate_altitude_above_msl', 'Temperature_height_above_ground', 'u-component_of_wind_tropopause', 'Land_cover_0__sea_1__land_surface', 'Snow_mixing_ratio_hybrid', 'Convective_inhibition_surface', 'Total_precipitation_surface_3_Hour_Accumulation', 'Geopotential_height_highest_tropospheric_freezing', 'Albedo_surface_3_Hour_Average', 'Temperature_tropopause', 'Vertical_Speed_Shear_tropopause', 'Temperature_altitude_above_msl', 'Vertical_Speed_Shear_potential_vorticity_surface', 'Maximum_temperature_height_above_ground_3_Hour_Maximum', 'Pressure_convective_cloud_top', 'Temperature_pressure_difference_layer', 'Pressure_maximum_wind', 'Precipitable_water_entire_atmosphere_single_layer', 'Specific_humidity_pressure_difference_layer', 'Convective_available_potential_energy_surface', 'Snow_mixing_ratio_isobaric', 'Temperature_isobaric', 'Ice_water_mixing_ratio_isobaric', 'Temperature_surface', 'Specific_humidity_height_above_ground', 'Soil_temperature_depth_below_surface_layer', 'Rain_mixing_ratio_isobaric', 'Categorical_Rain_surface_3_Hour_Average', 'v-component_of_wind_sigma', 'Pressure_low_cloud_bottom_3_Hour_Average', 'Relative_humidity_sigma', 'Geopotential_height_zeroDegC_isotherm', 'Cloud_Work_Function_entire_atmosphere_single_layer_3_Hour_Average', 'Apparent_temperature_height_above_ground', 'Total_cloud_cover_boundary_layer_cloud_3_Hour_Average', 'Cloud_mixing_ratio_isobaric', 'Haines_index_surface', 'Surface_Lifted_Index_surface', 'Categorical_Snow_surface', 'Momentum_flux_v-component_surface_3_Hour_Average', 'Vertical_velocity_pressure_isobaric', 'Convective_inhibition_pressure_difference_layer', 'Total_cloud_cover_low_cloud_3_Hour_Average', 'Convective_precipitation_surface_3_Hour_Accumulation', 'Ground_Heat_Flux_surface_3_Hour_Average', 'Cloud_mixing_ratio_hybrid', 'U-Component_Storm_Motion_height_above_ground_layer', 'MSLP_Eta_model_reduction_msl', 'u-component_of_wind_potential_vorticity_surface', 'V-Component_Storm_Motion_height_above_ground_layer', 'Pressure_reduced_to_MSL_msl', 'Sensible_heat_net_flux_surface_3_Hour_Average', 'Total_cloud_cover_middle_cloud_3_Hour_Average', 'Pressure_height_above_ground', 'Sunshine_Duration_surface', 'Rain_mixing_ratio_hybrid', 'Categorical_Ice_Pellets_surface_3_Hour_Average', 'Relative_humidity_isobaric', 'Temperature_potential_vorticity_surface', 'v-component_of_wind_height_above_ground', 'Vertical_velocity_pressure_sigma', 'Land-sea_coverage_nearest_neighbor_land1sea0_surface', 'Graupel_snow_pellets_hybrid', 'Pressure_of_level_from_which_parcel_was_lifted_pressure_difference_layer', 'Potential_temperature_sigma', 'Momentum_flux_u-component_surface_3_Hour_Average', 'Temperature_maximum_wind', 'Geopotential_height_surface', 'ICAO_Standard_Atmosphere_Reference_Height_maximum_wind', 'Categorical_Freezing_Rain_surface', 'Pressure_tropopause', 'Dewpoint_temperature_height_above_ground', 'Relative_humidity_height_above_ground', 'Upward_Long-Wave_Radp_Flux_surface_3_Hour_Average', 'Temperature_middle_cloud_top_3_Hour_Average', 'Geopotential_height_isobaric', 'Potential_Evaporation_Rate_surface', 'Temperature_sigma', 'Vertical_velocity_geometric_isobaric', 'Ozone_Mixing_Ratio_isobaric', 'Wilting_Point_surface', 'Geopotential_height_potential_vorticity_surface', 'Categorical_Ice_Pellets_surface', 'v-component_of_wind_tropopause', 'Categorical_Snow_surface_3_Hour_Average', 'Geopotential_height_maximum_wind', 'ICAO_Standard_Atmosphere_Reference_Height_tropopause', 'Relative_humidity_zeroDegC_isotherm', 'Total_cloud_cover_isobaric', 'Latent_heat_net_flux_surface_3_Hour_Average', 'v-component_of_wind_maximum_wind', 'Relative_humidity_entire_atmosphere_single_layer', 'Temperature_high_cloud_top_3_Hour_Average', 'Pressure_high_cloud_top_3_Hour_Average', 'Relative_humidity_highest_tropospheric_freezing', 'Categorical_Rain_surface', 'Relative_humidity_pressure_difference_layer', 'Cloud_water_entire_atmosphere_single_layer', 'Total_cloud_cover_high_cloud_3_Hour_Average', 'Upward_Short-Wave_Radiation_Flux_surface_3_Hour_Average', 'Relative_humidity_sigma_layer', 'Ice_water_mixing_ratio_hybrid', 'Temperature_low_cloud_top_3_Hour_Average', 'Convective_precipitation_rate_surface', 'Convective_Precipitation_Rate_surface_3_Hour_Average', 'Storm_relative_helicity_height_above_ground_layer', 'u-component_of_wind_maximum_wind', 'u-component_of_wind_pressure_difference_layer', 'Upward_Long-Wave_Radp_Flux_atmosphere_top_3_Hour_Average', 'Graupel_snow_pellets_isobaric', 'Planetary_Boundary_Layer_Height_surface', 'Volumetric_Soil_Moisture_Content_depth_below_surface_layer', 'u-component_of_wind_altitude_above_msl', 'Total_cloud_cover_entire_atmosphere_3_Hour_Average', 'u-component_of_wind_isobaric', 'v-component_of_wind_potential_vorticity_surface', 'Wind_speed_gust_surface', 'Meridional_Flux_of_Gravity_Wave_Stress_surface_3_Hour_Average', 'Absolute_vorticity_isobaric', 'Water_equivalent_of_accumulated_snow_depth_surface', 'Total_ozone_entire_atmosphere_single_layer', 'Pressure_convective_cloud_bottom', 'Visibility_surface', 'Pressure_middle_cloud_bottom_3_Hour_Average'}\n"
     ]
    }
   ],
   "source": [
    "base_url = 'https://www.ncei.noaa.gov/thredds/ncss/model-gfs-g4-anl-files/'\n",
    "dt = datetime(2020, 5, 6, 0)\n",
    "ncss = NCSS('{}{dt:%Y%m}/{dt:%Y%m%d}/gfsanl_4_{dt:%Y%m%d}'\n",
    "            '_{dt:%H}00_003.grb2'.format(base_url, dt=dt))\n",
    "print('{}{dt:%Y%m}/{dt:%Y%m%d}/gfsanl_4_{dt:%Y%m%d}_{dt:%H}00_003.grb2'.format(base_url, dt=dt))\n",
    "\n",
    "# Create lat/lon box for location you want to get data for\n",
    "# Both the time selections work below\n",
    "query = ncss.query().time_range(datetime(2020, 5, 6, 3),datetime(2020, 5, 6, 3))\n",
    "# query = ncss.query().time(datetime(2020, 5, 6, 3))\n",
    "query.lonlat_box(north=54, south=20, east=-65, west=-126)\n",
    "query.accept('netcdf')\n",
    "print(ncss.variables)\n",
    "# Request data for model \"surface\" data\n",
    "query.variables('Maximum_temperature_height_above_ground_3_Hour_Maximum',\n",
    "                'Minimum_temperature_height_above_ground_3_Hour_Minimum',\n",
    "                'Relative_humidity_sigma',\n",
    "                'Total_precipitation_surface_3_Hour_Accumulation',\n",
    "                'u-component_of_wind_sigma',\n",
    "                'v-component_of_wind_sigma')\n",
    "\n",
    "data = ncss.get_data(query)"
   ]
  },
  {
   "cell_type": "code",
   "execution_count": 4,
   "metadata": {},
   "outputs": [
    {
     "data": {
      "text/plain": [
       "<class 'netCDF4._netCDF4.Dataset'>\n",
       "root group (NETCDF3_CLASSIC data model, file format NETCDF3):\n",
       "    Originating_or_generating_Center: US National Weather Service, National Centres for Environmental Prediction (NCEP)\n",
       "    Originating_or_generating_Subcenter: 0\n",
       "    GRIB_table_version: 2,1\n",
       "    Type_of_generating_process: Forecast\n",
       "    Analysis_or_forecast_generating_process_identifier_defined_by_originating_centre: Global Forecast System Model T1534 - Forecast hours 00-384 T574 - Forecast hours 00-192 T190 - Forecast hours 204-384\n",
       "    Conventions: CF-1.6\n",
       "    history: Read using CDM IOSP GribCollection v3\n",
       "    featureType: GRID\n",
       "    History: Translated to CF-1.0 Conventions by Netcdf-Java CDM (CFGridWriter2)\n",
       "Original Dataset = /san5302/nexus/gfsanl/202005/20200506/gfsanl_4_20200506_0000_003.grb2; Translation Date = 2020-05-19T14:31:19.033Z\n",
       "    geospatial_lat_min: 20.0\n",
       "    geospatial_lat_max: 54.0\n",
       "    geospatial_lon_min: -126.0\n",
       "    geospatial_lon_max: -65.0\n",
       "    dimensions(sizes): time1(1), sigma(1), lat(69), lon(123), time(1), height_above_ground(1)\n",
       "    variables(dimensions): float32 v-component_of_wind_sigma(time1,sigma,lat,lon), float64 time1(time1), float32 sigma(sigma), float32 lat(lat), float32 lon(lon), int32 LatLon_Projection(), float32 Relative_humidity_sigma(time1,sigma,lat,lon), float32 Minimum_temperature_height_above_ground_3_Hour_Minimum(time,height_above_ground,lat,lon), float64 time(time), float32 height_above_ground(height_above_ground), float32 u-component_of_wind_sigma(time1,sigma,lat,lon), float32 Maximum_temperature_height_above_ground_3_Hour_Maximum(time,height_above_ground,lat,lon), float32 Total_precipitation_surface_3_Hour_Accumulation(time,lat,lon)\n",
       "    groups: "
      ]
     },
     "execution_count": 4,
     "metadata": {},
     "output_type": "execute_result"
    }
   ],
   "source": [
    "data\n"
   ]
  },
  {
   "cell_type": "code",
   "execution_count": null,
   "metadata": {},
   "outputs": [],
   "source": []
  }
 ],
 "metadata": {
  "kernelspec": {
   "display_name": "Python 3",
   "language": "python",
   "name": "python3"
  },
  "language_info": {
   "codemirror_mode": {
    "name": "ipython",
    "version": 3
   },
   "file_extension": ".py",
   "mimetype": "text/x-python",
   "name": "python",
   "nbconvert_exporter": "python",
   "pygments_lexer": "ipython3",
   "version": "3.7.6"
  }
 },
 "nbformat": 4,
 "nbformat_minor": 4
}
