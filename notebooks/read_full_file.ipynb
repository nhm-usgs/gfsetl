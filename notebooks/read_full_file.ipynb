{
 "cells": [
  {
   "cell_type": "code",
   "execution_count": 6,
   "metadata": {},
   "outputs": [],
   "source": [
    "from datetime import datetime, timedelta\n",
    "import cartopy.crs as ccrs\n",
    "import cartopy.feature as cfeature\n",
    "import matplotlib.pyplot as plt\n",
    "from metpy.units import units\n",
    "from netCDF4 import num2date\n",
    "import numpy as np\n",
    "import scipy.ndimage as ndimage\n",
    "from siphon.catalog import TDSCatalog\n",
    "from siphon.ncss import NCSS\n",
    "import matplotlib.pyplot as plt\n",
    "import metpy.calc as mpcalc\n",
    "import xarray as xr\n",
    "from pathlib import Path\n",
    "from requests.exceptions import HTTPError\n",
    "from xarray.backends import NetCDF4DataStore"
   ]
  },
  {
   "cell_type": "code",
   "execution_count": null,
   "metadata": {},
   "outputs": [],
   "source": [
    "ds = xr.open_dataset('C:/Users/rmcd/Downloads/gfsanl_4_20200101_0000_006.grb2', engine='cfgrib')"
   ]
  },
  {
   "cell_type": "code",
   "execution_count": null,
   "metadata": {},
   "outputs": [],
   "source": [
    "ds = xr.open_dataset('C:/Users/rmcd/Downloads/gfsanl_4_20200101_0000_006.grb2', engine='cfgrib',\n",
    "backend_kwargs={'filter_by_keys':{'typeOfLevel': 'surface'}})\n",
    "ds"
   ]
  },
  {
   "cell_type": "code",
   "execution_count": null,
   "metadata": {},
   "outputs": [],
   "source": [
    "ds = xr.open_dataset('C:/Users/rmcd/Downloads/gfsanl_4_20200101_0000_006.grb2', engine='cfgrib',\n",
    "backend_kwargs={'filter_by_keys':{'stepType': 'instant', 'typeOfLevel': 'unknown'}})\n",
    "ds"
   ]
  },
  {
   "cell_type": "code",
   "execution_count": null,
   "metadata": {},
   "outputs": [],
   "source": [
    "ds = xr.open_dataset('C:/Users/rmcd/Downloads/gfsanl_4_20200101_0000_006.grb2', engine='cfgrib',\n",
    "backend_kwargs={'filter_by_keys':{'stepType': 'avg', 'typeOfLevel': 'unknown'}})\n",
    "ds"
   ]
  },
  {
   "cell_type": "code",
   "execution_count": 7,
   "metadata": {},
   "outputs": [
    {
     "output_type": "error",
     "ename": "KeyError",
     "evalue": "'paramId'",
     "traceback": [
      "\u001b[1;31m---------------------------------------------------------------------------\u001b[0m",
      "\u001b[1;31mKeyError\u001b[0m                                  Traceback (most recent call last)",
      "\u001b[1;32m<ipython-input-7-a16a7c80a065>\u001b[0m in \u001b[0;36m<module>\u001b[1;34m\u001b[0m\n\u001b[1;32m----> 1\u001b[1;33m \u001b[0mds\u001b[0m \u001b[1;33m=\u001b[0m \u001b[0mxr\u001b[0m\u001b[1;33m.\u001b[0m\u001b[0mopen_dataset\u001b[0m\u001b[1;33m(\u001b[0m\u001b[1;34m'C:/Users/rmcd/Downloads/gfsanl_4_20200101_0000_006.grb2'\u001b[0m\u001b[1;33m,\u001b[0m \u001b[0mengine\u001b[0m\u001b[1;33m=\u001b[0m\u001b[1;34m'cfgrib'\u001b[0m\u001b[1;33m,\u001b[0m \u001b[0mbackend_kwargs\u001b[0m\u001b[1;33m=\u001b[0m\u001b[1;33m{\u001b[0m\u001b[1;34m'filter_by_keys'\u001b[0m\u001b[1;33m:\u001b[0m\u001b[1;33m{\u001b[0m\u001b[1;34m'cfVarName'\u001b[0m\u001b[1;33m:\u001b[0m \u001b[1;34m'apcp'\u001b[0m\u001b[1;33m,\u001b[0m \u001b[1;34m'typeOfLevel'\u001b[0m\u001b[1;33m:\u001b[0m \u001b[1;34m'surface'\u001b[0m\u001b[1;33m}\u001b[0m\u001b[1;33m}\u001b[0m\u001b[1;33m)\u001b[0m\u001b[1;33m\u001b[0m\u001b[1;33m\u001b[0m\u001b[0m\n\u001b[0m",
      "\u001b[1;32m~\\anaconda3\\envs\\gfsetl\\lib\\site-packages\\xarray\\backends\\api.py\u001b[0m in \u001b[0;36mopen_dataset\u001b[1;34m(filename_or_obj, group, decode_cf, mask_and_scale, decode_times, autoclose, concat_characters, decode_coords, engine, chunks, lock, cache, drop_variables, backend_kwargs, use_cftime)\u001b[0m\n\u001b[0;32m    518\u001b[0m         \u001b[1;32melif\u001b[0m \u001b[0mengine\u001b[0m \u001b[1;33m==\u001b[0m \u001b[1;34m\"cfgrib\"\u001b[0m\u001b[1;33m:\u001b[0m\u001b[1;33m\u001b[0m\u001b[1;33m\u001b[0m\u001b[0m\n\u001b[0;32m    519\u001b[0m             store = backends.CfGribDataStore(\n\u001b[1;32m--> 520\u001b[1;33m                 \u001b[0mfilename_or_obj\u001b[0m\u001b[1;33m,\u001b[0m \u001b[0mlock\u001b[0m\u001b[1;33m=\u001b[0m\u001b[0mlock\u001b[0m\u001b[1;33m,\u001b[0m \u001b[1;33m**\u001b[0m\u001b[0mbackend_kwargs\u001b[0m\u001b[1;33m\u001b[0m\u001b[1;33m\u001b[0m\u001b[0m\n\u001b[0m\u001b[0;32m    521\u001b[0m             )\n\u001b[0;32m    522\u001b[0m \u001b[1;33m\u001b[0m\u001b[0m\n",
      "\u001b[1;32m~\\anaconda3\\envs\\gfsetl\\lib\\site-packages\\xarray\\backends\\cfgrib_.py\u001b[0m in \u001b[0;36m__init__\u001b[1;34m(self, filename, lock, **backend_kwargs)\u001b[0m\n\u001b[0;32m     41\u001b[0m             \u001b[0mlock\u001b[0m \u001b[1;33m=\u001b[0m \u001b[0mECCODES_LOCK\u001b[0m\u001b[1;33m\u001b[0m\u001b[1;33m\u001b[0m\u001b[0m\n\u001b[0;32m     42\u001b[0m         \u001b[0mself\u001b[0m\u001b[1;33m.\u001b[0m\u001b[0mlock\u001b[0m \u001b[1;33m=\u001b[0m \u001b[0mensure_lock\u001b[0m\u001b[1;33m(\u001b[0m\u001b[0mlock\u001b[0m\u001b[1;33m)\u001b[0m\u001b[1;33m\u001b[0m\u001b[1;33m\u001b[0m\u001b[0m\n\u001b[1;32m---> 43\u001b[1;33m         \u001b[0mself\u001b[0m\u001b[1;33m.\u001b[0m\u001b[0mds\u001b[0m \u001b[1;33m=\u001b[0m \u001b[0mcfgrib\u001b[0m\u001b[1;33m.\u001b[0m\u001b[0mopen_file\u001b[0m\u001b[1;33m(\u001b[0m\u001b[0mfilename\u001b[0m\u001b[1;33m,\u001b[0m \u001b[1;33m**\u001b[0m\u001b[0mbackend_kwargs\u001b[0m\u001b[1;33m)\u001b[0m\u001b[1;33m\u001b[0m\u001b[1;33m\u001b[0m\u001b[0m\n\u001b[0m\u001b[0;32m     44\u001b[0m \u001b[1;33m\u001b[0m\u001b[0m\n\u001b[0;32m     45\u001b[0m     \u001b[1;32mdef\u001b[0m \u001b[0mopen_store_variable\u001b[0m\u001b[1;33m(\u001b[0m\u001b[0mself\u001b[0m\u001b[1;33m,\u001b[0m \u001b[0mname\u001b[0m\u001b[1;33m,\u001b[0m \u001b[0mvar\u001b[0m\u001b[1;33m)\u001b[0m\u001b[1;33m:\u001b[0m\u001b[1;33m\u001b[0m\u001b[1;33m\u001b[0m\u001b[0m\n",
      "\u001b[1;32m~\\anaconda3\\envs\\gfsetl\\lib\\site-packages\\cfgrib\\dataset.py\u001b[0m in \u001b[0;36mopen_file\u001b[1;34m(path, grib_errors, indexpath, filter_by_keys, read_keys, **kwargs)\u001b[0m\n\u001b[0;32m    635\u001b[0m     \u001b[0mindex_keys\u001b[0m \u001b[1;33m=\u001b[0m \u001b[0msorted\u001b[0m\u001b[1;33m(\u001b[0m\u001b[0mALL_KEYS\u001b[0m \u001b[1;33m+\u001b[0m \u001b[0mread_keys\u001b[0m\u001b[1;33m)\u001b[0m\u001b[1;33m\u001b[0m\u001b[1;33m\u001b[0m\u001b[0m\n\u001b[0;32m    636\u001b[0m     \u001b[0mindex\u001b[0m \u001b[1;33m=\u001b[0m \u001b[0mopen_fileindex\u001b[0m\u001b[1;33m(\u001b[0m\u001b[0mpath\u001b[0m\u001b[1;33m,\u001b[0m \u001b[0mgrib_errors\u001b[0m\u001b[1;33m,\u001b[0m \u001b[0mindexpath\u001b[0m\u001b[1;33m,\u001b[0m \u001b[0mindex_keys\u001b[0m\u001b[1;33m)\u001b[0m\u001b[1;33m.\u001b[0m\u001b[0msubindex\u001b[0m\u001b[1;33m(\u001b[0m\u001b[0mfilter_by_keys\u001b[0m\u001b[1;33m)\u001b[0m\u001b[1;33m\u001b[0m\u001b[1;33m\u001b[0m\u001b[0m\n\u001b[1;32m--> 637\u001b[1;33m     \u001b[1;32mreturn\u001b[0m \u001b[0mDataset\u001b[0m\u001b[1;33m(\u001b[0m\u001b[1;33m*\u001b[0m\u001b[0mbuild_dataset_components\u001b[0m\u001b[1;33m(\u001b[0m\u001b[0mindex\u001b[0m\u001b[1;33m,\u001b[0m \u001b[0mread_keys\u001b[0m\u001b[1;33m=\u001b[0m\u001b[0mread_keys\u001b[0m\u001b[1;33m,\u001b[0m \u001b[1;33m**\u001b[0m\u001b[0mkwargs\u001b[0m\u001b[1;33m)\u001b[0m\u001b[1;33m)\u001b[0m\u001b[1;33m\u001b[0m\u001b[1;33m\u001b[0m\u001b[0m\n\u001b[0m",
      "\u001b[1;32m~\\anaconda3\\envs\\gfsetl\\lib\\site-packages\\cfgrib\\dataset.py\u001b[0m in \u001b[0;36mbuild_dataset_components\u001b[1;34m(index, errors, encode_cf, squeeze, log, read_keys, time_dims)\u001b[0m\n\u001b[0;32m    557\u001b[0m     \u001b[0mvariables\u001b[0m \u001b[1;33m=\u001b[0m \u001b[0mcollections\u001b[0m\u001b[1;33m.\u001b[0m\u001b[0mOrderedDict\u001b[0m\u001b[1;33m(\u001b[0m\u001b[1;33m)\u001b[0m\u001b[1;33m\u001b[0m\u001b[1;33m\u001b[0m\u001b[0m\n\u001b[0;32m    558\u001b[0m     \u001b[0mfilter_by_keys\u001b[0m \u001b[1;33m=\u001b[0m \u001b[0mindex\u001b[0m\u001b[1;33m.\u001b[0m\u001b[0mfilter_by_keys\u001b[0m\u001b[1;33m\u001b[0m\u001b[1;33m\u001b[0m\u001b[0m\n\u001b[1;32m--> 559\u001b[1;33m     \u001b[1;32mfor\u001b[0m \u001b[0mparam_id\u001b[0m \u001b[1;32min\u001b[0m \u001b[0mindex\u001b[0m\u001b[1;33m[\u001b[0m\u001b[1;34m'paramId'\u001b[0m\u001b[1;33m]\u001b[0m\u001b[1;33m:\u001b[0m\u001b[1;33m\u001b[0m\u001b[1;33m\u001b[0m\u001b[0m\n\u001b[0m\u001b[0;32m    560\u001b[0m         \u001b[0mvar_index\u001b[0m \u001b[1;33m=\u001b[0m \u001b[0mindex\u001b[0m\u001b[1;33m.\u001b[0m\u001b[0msubindex\u001b[0m\u001b[1;33m(\u001b[0m\u001b[0mparamId\u001b[0m\u001b[1;33m=\u001b[0m\u001b[0mparam_id\u001b[0m\u001b[1;33m)\u001b[0m\u001b[1;33m\u001b[0m\u001b[1;33m\u001b[0m\u001b[0m\n\u001b[0;32m    561\u001b[0m         \u001b[1;32mtry\u001b[0m\u001b[1;33m:\u001b[0m\u001b[1;33m\u001b[0m\u001b[1;33m\u001b[0m\u001b[0m\n",
      "\u001b[1;32m~\\anaconda3\\envs\\gfsetl\\lib\\site-packages\\cfgrib\\messages.py\u001b[0m in \u001b[0;36m__getitem__\u001b[1;34m(self, item)\u001b[0m\n\u001b[0;32m    385\u001b[0m     \u001b[1;32mdef\u001b[0m \u001b[0m__getitem__\u001b[0m\u001b[1;33m(\u001b[0m\u001b[0mself\u001b[0m\u001b[1;33m,\u001b[0m \u001b[0mitem\u001b[0m\u001b[1;33m)\u001b[0m\u001b[1;33m:\u001b[0m\u001b[1;33m\u001b[0m\u001b[1;33m\u001b[0m\u001b[0m\n\u001b[0;32m    386\u001b[0m         \u001b[1;31m# type: (str) -> list\u001b[0m\u001b[1;33m\u001b[0m\u001b[1;33m\u001b[0m\u001b[1;33m\u001b[0m\u001b[0m\n\u001b[1;32m--> 387\u001b[1;33m         \u001b[1;32mreturn\u001b[0m \u001b[0mself\u001b[0m\u001b[1;33m.\u001b[0m\u001b[0mheader_values\u001b[0m\u001b[1;33m[\u001b[0m\u001b[0mitem\u001b[0m\u001b[1;33m]\u001b[0m\u001b[1;33m\u001b[0m\u001b[1;33m\u001b[0m\u001b[0m\n\u001b[0m\u001b[0;32m    388\u001b[0m \u001b[1;33m\u001b[0m\u001b[0m\n\u001b[0;32m    389\u001b[0m     \u001b[1;32mdef\u001b[0m \u001b[0mgetone\u001b[0m\u001b[1;33m(\u001b[0m\u001b[0mself\u001b[0m\u001b[1;33m,\u001b[0m \u001b[0mitem\u001b[0m\u001b[1;33m)\u001b[0m\u001b[1;33m:\u001b[0m\u001b[1;33m\u001b[0m\u001b[1;33m\u001b[0m\u001b[0m\n",
      "\u001b[1;31mKeyError\u001b[0m: 'paramId'"
     ]
    }
   ],
   "source": [
    "ds = xr.open_dataset('C:/Users/rmcd/Downloads/gfsanl_4_20200101_0000_006.grb2', engine='cfgrib', backend_kwargs={'filter_by_keys':{'cfVarName': 'apcp', 'typeOfLevel': 'surface'}})"
   ]
  },
  {
   "cell_type": "code",
   "execution_count": null,
   "metadata": {},
   "outputs": [],
   "source": [
    "ds"
   ]
  },
  {
   "cell_type": "code",
   "execution_count": 8,
   "metadata": {},
   "outputs": [],
   "source": [
    "import cfgrib\n",
    "cfd = cfgrib.open_datasets('C:/Users/rmcd/Downloads/gfsanl_4_20200101_0000_006.grb2')\n"
   ]
  },
  {
   "cell_type": "code",
   "execution_count": 9,
   "metadata": {},
   "outputs": [
    {
     "output_type": "execute_result",
     "data": {
      "text/plain": ", latitude: 361, longitude: 720)\n Coordinates:\n     time           datetime64[ns] 2020-01-01\n     step           timedelta64[ns] 06:00:00\n   * isobaricInhPa  (isobaricInhPa) int32 1000 975 950 925 900 ... 200 150 100 50\n   * latitude       (latitude) float64 90.0 89.5 89.0 88.5 ... -89.0 -89.5 -90.0\n   * longitude      (longitude) float64 0.0 0.5 1.0 1.5 ... 358.5 359.0 359.5\n     valid_time     datetime64[ns] 2020-01-01T06:00:00\n Data variables:\n     tcc            (isobaricInhPa, latitude, longitude) float32 ...\n     clwmr          (isobaricInhPa, latitude, longitude) float32 ...\n     icmr           (isobaricInhPa, latitude, longitude) float32 ...\n     rwmr           (isobaricInhPa, latitude, longitude) float32 ...\n     snmr           (isobaricInhPa, latitude, longitude) float32 ...\n     grle           (isobaricInhPa, latitude, longitude) float32 ...\n Attributes:\n     GRIB_edition:            2\n     GRIB_centre:             kwbc\n     GRIB_centreDescription:  US National Weather Service - NCEP \n     GRIB_subCentre:          0\n     Conventions:             CF-1.7\n     institution:             US National Weather Service - NCEP ,\n <xarray.Dataset>\n Dimensions:        (latitude: 361, longitude: 720)\n Coordinates:\n     time           datetime64[ns] 2020-01-01\n     step           timedelta64[ns] 06:00:00\n     isobaricInhPa  int32 500\n   * latitude       (latitude) float64 90.0 89.5 89.0 88.5 ... -89.0 -89.5 -90.0\n   * longitude      (longitude) float64 0.0 0.5 1.0 1.5 ... 358.5 359.0 359.5\n     valid_time     datetime64[ns] ...\n Data variables:\n     5wavh          (latitude, longitude) float32 ...\n Attributes:\n     GRIB_edition:            2\n     GRIB_centre:             kwbc\n     GRIB_centreDescription:  US National Weather Service - NCEP \n     GRIB_subCentre:          0\n     Conventions:             CF-1.7\n     institution:             US National Weather Service - NCEP ,\n <xarray.Dataset>\n Dimensions:        (isobaricInhPa: 23, latitude: 361, longitude: 720)\n Coordinates:\n     time           datetime64[ns] 2020-01-01\n     step           timedelta64[ns] 06:00:00\n   * isobaricInhPa  (isobaricInhPa) int32 1000 850 700 500 400 350 ... 7 5 3 2 1\n   * latitude       (latitude) float64 90.0 89.5 89.0 88.5 ... -89.0 -89.5 -90.0\n   * longitude      (longitude) float64 0.0 0.5 1.0 1.5 ... 358.5 359.0 359.5\n     valid_time     datetime64[ns] ...\n Data variables:\n     o3mr           (isobaricInhPa, latitude, longitude) float32 ...\n Attributes:\n     GRIB_edition:            2\n     GRIB_centre:             kwbc\n     GRIB_centreDescription:  US National Weather Service - NCEP \n     GRIB_subCentre:          0\n     Conventions:             CF-1.7\n     institution:             US National Weather Service - NCEP ,\n <xarray.Dataset>\n Dimensions:        (isobaricInhPa: 19, latitude: 361, longitude: 720)\n Coordinates:\n     time           datetime64[ns] 2020-01-01\n     step           timedelta64[ns] 06:00:00\n   * isobaricInhPa  (isobaricInhPa) int32 1000 950 900 850 ... 250 200 150 100\n   * latitude       (latitude) float64 90.0 89.5 89.0 88.5 ... -89.0 -89.5 -90.0\n   * longitude      (longitude) float64 0.0 0.5 1.0 1.5 ... 358.5 359.0 359.5\n     valid_time     datetime64[ns] ...\n Data variables:\n     ICSEV          (isobaricInhPa, latitude, longitude) float32 ...\n Attributes:\n     GRIB_edition:            2\n     GRIB_centre:             kwbc\n     GRIB_centreDescription:  US National Weather Service - NCEP \n     GRIB_subCentre:          0\n     Conventions:             CF-1.7\n     institution:             US National Weather Service - NCEP ,\n <xarray.Dataset>\n Dimensions:       (latitude: 361, longitude: 720)\n Coordinates:\n     time          datetime64[ns] 2020-01-01\n     step          timedelta64[ns] 06:00:00\n     isothermZero  int32 0\n   * latitude      (latitude) float64 90.0 89.5 89.0 88.5 ... -89.0 -89.5 -90.0\n   * longitude     (longitude) float64 0.0 0.5 1.0 1.5 ... 358.5 359.0 359.5\n     valid_time    datetime64[ns] 2020-01-01T06:00:00\n Data variables:\n     gh            (latitude, longitude) float32 ...\n     r             (latitude, longitude) float32 ...\n Attributes:\n     GRIB_edition:            2\n     GRIB_centre:             kwbc\n     GRIB_centreDescription:  US National Weather Service - NCEP \n     GRIB_subCentre:          0\n     Conventions:             CF-1.7\n     institution:             US National Weather Service - NCEP ,\n <xarray.Dataset>\n Dimensions:     (latitude: 361, longitude: 720)\n Coordinates:\n     time        datetime64[ns] 2020-01-01\n     step        timedelta64[ns] 06:00:00\n     maxWind     int32 0\n   * latitude    (latitude) float64 90.0 89.5 89.0 88.5 ... -89.0 -89.5 -90.0\n   * longitude   (longitude) float64 0.0 0.5 1.0 1.5 ... 358.0 358.5 359.0 359.5\n     valid_time  datetime64[ns] 2020-01-01T06:00:00\n Data variables:\n     pres        (latitude, longitude) float32 ...\n     t           (latitude, longitude) float32 ...\n     u           (latitude, longitude) float32 ...\n     v           (latitude, longitude) float32 ...\n     gh          (latitude, longitude) float32 ...\n     icaht       (latitude, longitude) float32 ...\n Attributes:\n     GRIB_edition:            2\n     GRIB_centre:             kwbc\n     GRIB_centreDescription:  US National Weather Service - NCEP \n     GRIB_subCentre:          0\n     Conventions:             CF-1.7\n     institution:             US National Weather Service - NCEP ,\n <xarray.Dataset>\n Dimensions:     (latitude: 361, longitude: 720)\n Coordinates:\n     time        datetime64[ns] 2020-01-01\n     step        timedelta64[ns] 06:00:00\n     meanSea     int32 0\n   * latitude    (latitude) float64 90.0 89.5 89.0 88.5 ... -89.0 -89.5 -90.0\n   * longitude   (longitude) float64 0.0 0.5 1.0 1.5 ... 358.0 358.5 359.0 359.5\n     valid_time  datetime64[ns] 2020-01-01T06:00:00\n Data variables:\n     prmsl       (latitude, longitude) float32 ...\n     mslet       (latitude, longitude) float32 ...\n Attributes:\n     GRIB_edition:            2\n     GRIB_centre:             kwbc\n     GRIB_centreDescription:  US National Weather Service - NCEP \n     GRIB_subCentre:          0\n     Conventions:             CF-1.7\n     institution:             US National Weather Service - NCEP ,\n <xarray.Dataset>\n Dimensions:     (latitude: 361, longitude: 720)\n Coordinates:\n     time        datetime64[ns] 2020-01-01\n     step        timedelta64[ns] 06:00:00\n     nominalTop  int32 0\n   * latitude    (latitude) float64 90.0 89.5 89.0 88.5 ... -89.0 -89.5 -90.0\n   * longitude   (longitude) float64 0.0 0.5 1.0 1.5 ... 358.0 358.5 359.0 359.5\n     valid_time  datetime64[ns] 2020-01-01T06:00:00\n Data variables:\n     uswrf       (latitude, longitude) float32 ...\n     ulwrf       (latitude, longitude) float32 ...\n Attributes:\n     GRIB_edition:            2\n     GRIB_centre:             kwbc\n     GRIB_centreDescription:  US National Weather Service - NCEP \n     GRIB_subCentre:          0\n     Conventions:             CF-1.7\n     institution:             US National Weather Service - NCEP ,\n <xarray.Dataset>\n Dimensions:             (latitude: 361, longitude: 720, potentialVorticity: 2)\n Coordinates:\n     time                datetime64[ns] 2020-01-01\n     step                timedelta64[ns] 06:00:00\n   * potentialVorticity  (potentialVorticity) int32 -2147481 2\n   * latitude            (latitude) float64 90.0 89.5 89.0 ... -89.0 -89.5 -90.0\n   * longitude           (longitude) float64 0.0 0.5 1.0 ... 358.5 359.0 359.5\n     valid_time          datetime64[ns] 2020-01-01T06:00:00\n Data variables:\n     pres                (potentialVorticity, latitude, longitude) float32 ...\n     t                   (potentialVorticity, latitude, longitude) float32 ...\n     u                   (potentialVorticity, latitude, longitude) float32 ...\n     v                   (potentialVorticity, latitude, longitude) float32 ...\n     gh                  (potentialVorticity, latitude, longitude) float32 ...\n     vwsh                (potentialVorticity, latitude, longitude) float32 ...\n Attributes:\n     GRIB_edition:            2\n     GRIB_centre:             kwbc\n     GRIB_centreDescription:  US National Weather Service - NCEP \n     GRIB_subCentre:          0\n     Conventions:             CF-1.7\n     institution:             US National Weather Service - NCEP ,\n <xarray.Dataset>\n Dimensions:                  (latitude: 361, longitude: 720, pressureFromGroundLayer: 2)\n Coordinates:\n     time                     datetime64[ns] 2020-01-01\n     step                     timedelta64[ns] 06:00:00\n   * pressureFromGroundLayer  (pressureFromGroundLayer) int32 18000 25500\n   * latitude                 (latitude) float64 90.0 89.5 89.0 ... -89.5 -90.0\n   * longitude                (longitude) float64 0.0 0.5 1.0 ... 359.0 359.5\n     valid_time               datetime64[ns] 2020-01-01T06:00:00\n Data variables:\n     cape                     (pressureFromGroundLayer, latitude, longitude) float32 ...\n     cin                      (pressureFromGroundLayer, latitude, longitude) float32 ...\n Attributes:\n     GRIB_edition:            2\n     GRIB_centre:             kwbc\n     GRIB_centreDescription:  US National Weather Service - NCEP \n     GRIB_subCentre:          0\n     Conventions:             CF-1.7\n     institution:             US National Weather Service - NCEP ,\n <xarray.Dataset>\n Dimensions:                  (latitude: 361, longitude: 720)\n Coordinates:\n     time                     datetime64[ns] 2020-01-01\n     step                     timedelta64[ns] 06:00:00\n     pressureFromGroundLayer  int32 3000\n   * latitude                 (latitude) float64 90.0 89.5 89.0 ... -89.5 -90.0\n   * longitude                (longitude) float64 0.0 0.5 1.0 ... 359.0 359.5\n     valid_time               datetime64[ns] 2020-01-01T06:00:00\n Data variables:\n     t                        (latitude, longitude) float32 ...\n     u                        (latitude, longitude) float32 ...\n     v                        (latitude, longitude) float32 ...\n     q                        (latitude, longitude) float32 ...\n     r                        (latitude, longitude) float32 ...\n Attributes:\n     GRIB_edition:            2\n     GRIB_centre:             kwbc\n     GRIB_centreDescription:  US National Weather Service - NCEP \n     GRIB_subCentre:          0\n     Conventions:             CF-1.7\n     institution:             US National Weather Service - NCEP ,\n <xarray.Dataset>\n Dimensions:                  (latitude: 361, longitude: 720)\n Coordinates:\n     time                     datetime64[ns] 2020-01-01\n     step                     timedelta64[ns] 06:00:00\n     pressureFromGroundLayer  int32 25500\n   * latitude                 (latitude) float64 90.0 89.5 89.0 ... -89.5 -90.0\n   * longitude                (longitude) float64 0.0 0.5 1.0 ... 359.0 359.5\n     valid_time               datetime64[ns] ...\n Data variables:\n     plpl                     (latitude, longitude) float32 ...\n Attributes:\n     GRIB_edition:            2\n     GRIB_centre:             kwbc\n     GRIB_centreDescription:  US National Weather Service - NCEP \n     GRIB_subCentre:          0\n     Conventions:             CF-1.7\n     institution:             US National Weather Service - NCEP ,\n <xarray.Dataset>\n Dimensions:     (latitude: 361, longitude: 720)\n Coordinates:\n     time        datetime64[ns] 2020-01-01\n     step        timedelta64[ns] 06:00:00\n     sigma       int32 1\n   * latitude    (latitude) float64 90.0 89.5 89.0 88.5 ... -89.0 -89.5 -90.0\n   * longitude   (longitude) float64 0.0 0.5 1.0 1.5 ... 358.0 358.5 359.0 359.5\n     valid_time  datetime64[ns] 2020-01-01T06:00:00\n Data variables:\n     pt          (latitude, longitude) float32 ...\n     t           (latitude, longitude) float32 ...\n     u           (latitude, longitude) float32 ...\n     v           (latitude, longitude) float32 ...\n     w           (latitude, longitude) float32 ...\n     r           (latitude, longitude) float32 ...\n Attributes:\n     GRIB_edition:            2\n     GRIB_centre:             kwbc\n     GRIB_centreDescription:  US National Weather Service - NCEP \n     GRIB_subCentre:          0\n     Conventions:             CF-1.7\n     institution:             US National Weather Service - NCEP ,\n <xarray.Dataset>\n Dimensions:     (latitude: 361, longitude: 720, sigmaLayer: 2)\n Coordinates:\n     time        datetime64[ns] 2020-01-01\n     step        timedelta64[ns] 06:00:00\n   * sigmaLayer  (sigmaLayer) int32 0 1\n   * latitude    (latitude) float64 90.0 89.5 89.0 88.5 ... -89.0 -89.5 -90.0\n   * longitude   (longitude) float64 0.0 0.5 1.0 1.5 ... 358.0 358.5 359.0 359.5\n     valid_time  datetime64[ns] ...\n Data variables:\n     r           (sigmaLayer, latitude, longitude) float32 ...\n Attributes:\n     GRIB_edition:            2\n     GRIB_centre:             kwbc\n     GRIB_centreDescription:  US National Weather Service - NCEP \n     GRIB_subCentre:          0\n     Conventions:             CF-1.7\n     institution:             US National Weather Service - NCEP ,\n <xarray.Dataset>\n Dimensions:     (latitude: 361, longitude: 720)\n Coordinates:\n     time        datetime64[ns] 2020-01-01\n     step        timedelta64[ns] 06:00:00\n     surface     int32 0\n   * latitude    (latitude) float64 90.0 89.5 89.0 88.5 ... -89.0 -89.5 -90.0\n   * longitude   (longitude) float64 0.0 0.5 1.0 1.5 ... 358.0 358.5 359.0 359.5\n     valid_time  datetime64[ns] 2020-01-01T06:00:00\n Data variables:\n     siconc      (latitude, longitude) float32 ...\n     cape        (latitude, longitude) float32 ...\n     t           (latitude, longitude) float32 ...\n     sp          (latitude, longitude) float32 ...\n     lsm         (latitude, longitude) float32 ...\n     vis         (latitude, longitude) float32 ...\n     prate       (latitude, longitude) float32 ...\n     acpcp       (latitude, longitude) float32 ...\n     sde         (latitude, longitude) float32 ...\n     cin         (latitude, longitude) float32 ...\n     orog        (latitude, longitude) float32 ...\n     tp          (latitude, longitude) float32 ...\n     lhtfl       (latitude, longitude) float32 ...\n     shtfl       (latitude, longitude) float32 ...\n     crain       (latitude, longitude) float32 ...\n     cfrzr       (latitude, longitude) float32 ...\n     cicep       (latitude, longitude) float32 ...\n     csnow       (latitude, longitude) float32 ...\n     cprat       (latitude, longitude) float32 ...\n     cpofp       (latitude, longitude) float32 ...\n     pevpr       (latitude, longitude) float32 ...\n     sdwe        (latitude, longitude) float32 ...\n     uflx        (latitude, longitude) float32 ...\n     vflx        (latitude, longitude) float32 ...\n     gust        (latitude, longitude) float32 ...\n     u-gwd       (latitude, longitude) float32 ...\n     v-gwd       (latitude, longitude) float32 ...\n     hpbl        (latitude, longitude) float32 ...\n     dswrf       (latitude, longitude) float32 ...\n     uswrf       (latitude, longitude) float32 ...\n     dlwrf       (latitude, longitude) float32 ...\n     ulwrf       (latitude, longitude) float32 ...\n     lftx        (latitude, longitude) float32 ...\n     4lftx       (latitude, longitude) float32 ...\n     watr        (latitude, longitude) float32 ...\n     gflux       (latitude, longitude) float32 ...\n     hindex      (latitude, longitude) float32 ...\n     wilt        (latitude, longitude) float32 ...\n     landn       (latitude, longitude) float32 ...\n     fldcp       (latitude, longitude) float32 ...\n     al          (latitude, longitude) float32 ...\n     SUNSD       (latitude, longitude) float32 ...\n Attributes:\n     GRIB_edition:            2\n     GRIB_centre:             kwbc\n     GRIB_centreDescription:  US National Weather Service - NCEP \n     GRIB_subCentre:          0\n     Conventions:             CF-1.7\n     institution:             US National Weather Service - NCEP ,\n <xarray.Dataset>\n Dimensions:     (latitude: 361, longitude: 720)\n Coordinates:\n     time        datetime64[ns] 2020-01-01\n     step        timedelta64[ns] 06:00:00\n     surface     int32 0\n   * latitude    (latitude) float64 90.0 89.5 89.0 88.5 ... -89.0 -89.5 -90.0\n   * longitude   (longitude) float64 0.0 0.5 1.0 1.5 ... 358.0 358.5 359.0 359.5\n     valid_time  datetime64[ns] 2020-01-01T06:00:00\n Data variables:\n     prate       (latitude, longitude) float32 ...\n     crain       (latitude, longitude) float32 ...\n     cfrzr       (latitude, longitude) float32 ...\n     cicep       (latitude, longitude) float32 ...\n     csnow       (latitude, longitude) float32 ...\n     cprat       (latitude, longitude) float32 ...\n Attributes:\n     GRIB_edition:            2\n     GRIB_centre:             kwbc\n     GRIB_centreDescription:  US National Weather Service - NCEP \n     GRIB_subCentre:          0\n     Conventions:             CF-1.7\n     institution:             US National Weather Service - NCEP ,\n <xarray.Dataset>\n Dimensions:     (latitude: 361, longitude: 720)\n Coordinates:\n     time        datetime64[ns] 2020-01-01\n     step        timedelta64[ns] 06:00:00\n     tropopause  int32 0\n   * latitude    (latitude) float64 90.0 89.5 89.0 88.5 ... -89.0 -89.5 -90.0\n   * longitude   (longitude) float64 0.0 0.5 1.0 1.5 ... 358.0 358.5 359.0 359.5\n     valid_time  datetime64[ns] 2020-01-01T06:00:00\n Data variables:\n     pres        (latitude, longitude) float32 ...\n     t           (latitude, longitude) float32 ...\n     u           (latitude, longitude) float32 ...\n     v           (latitude, longitude) float32 ...\n     gh          (latitude, longitude) float32 ...\n     icaht       (latitude, longitude) float32 ...\n     vwsh        (latitude, longitude) float32 ...\n Attributes:\n     GRIB_edition:            2\n     GRIB_centre:             kwbc\n     GRIB_centreDescription:  US National Weather Service - NCEP \n     GRIB_subCentre:          0\n     Conventions:             CF-1.7\n     institution:             US National Weather Service - NCEP ,\n <xarray.Dataset>\n Dimensions:     (latitude: 361, longitude: 720)\n Coordinates:\n     time        datetime64[ns] 2020-01-01\n     step        timedelta64[ns] 06:00:00\n     level       int32 0\n   * latitude    (latitude) float64 90.0 89.5 89.0 88.5 ... -89.0 -89.5 -90.0\n   * longitude   (longitude) float64 0.0 0.5 1.0 1.5 ... 358.0 358.5 359.0 359.5\n     valid_time  datetime64[ns] 2020-01-01T06:00:00\n Data variables:\n     pres        (latitude, longitude) float32 ...\n     t           (latitude, longitude) float32 ...\n     u           (latitude, longitude) float32 ...\n     v           (latitude, longitude) float32 ...\n     gh          (latitude, longitude) float32 ...\n     r           (latitude, longitude) float32 ...\n     pwat        (latitude, longitude) float32 ...\n     tcc         (latitude, longitude) float32 ...\n     cwat        (latitude, longitude) float32 ...\n     cwork       (latitude, longitude) float32 ...\n     tozne       (latitude, longitude) float32 ...\n     VRATE       (latitude, longitude) float32 ...\n Attributes:\n     GRIB_edition:            2\n     GRIB_centre:             kwbc\n     GRIB_centreDescription:  US National Weather Service - NCEP \n     GRIB_subCentre:          0\n     Conventions:             CF-1.7\n     institution:             US National Weather Service - NCEP ,\n <xarray.Dataset>\n Dimensions:     (latitude: 361, longitude: 720)\n Coordinates:\n     time        datetime64[ns] 2020-01-01\n     step        timedelta64[ns] 06:00:00\n     level       int32 0\n   * latitude    (latitude) float64 90.0 89.5 89.0 88.5 ... -89.0 -89.5 -90.0\n   * longitude   (longitude) float64 0.0 0.5 1.0 1.5 ... 358.0 358.5 359.0 359.5\n     valid_time  datetime64[ns] 2020-01-01T06:00:00\n Data variables:\n     pres        (latitude, longitude) float32 ...\n     tcc         (latitude, longitude) float32 ...\n Attributes:\n     GRIB_edition:            2\n     GRIB_centre:             kwbc\n     GRIB_centreDescription:  US National Weather Service - NCEP \n     GRIB_subCentre:          0\n     Conventions:             CF-1.7\n     institution:             US National Weather Service - NCEP ]"
     },
     "metadata": {},
     "execution_count": 9
    }
   ],
   "source": [
    "cfd"
   ]
  },
  {
   "cell_type": "code",
   "execution_count": null,
   "metadata": {
    "tags": [
     "outputPrepend"
    ]
   },
   "outputs": [],
   "source": [
    "print(type(cfd))\n",
    "print(len(cfd))\n",
    "print(cfd[34].variables.keys)\n"
   ]
  },
  {
   "cell_type": "code",
   "execution_count": null,
   "metadata": {},
   "outputs": [],
   "source": [
    "for ds in cfd:\n",
    "    try:\n",
    "        print(ds.varables['prate'])\n",
    "    except:\n",
    "        print(0)"
   ]
  },
  {
   "cell_type": "code",
   "execution_count": null,
   "metadata": {},
   "outputs": [],
   "source": [
    "ds2 = cfgrib.open_file('C:/Users/rmcd/Downloads/gfsanl_4_20200101_0000_006.grb2', filter_by_keys={'typeOfLevel': 'surface'})"
   ]
  },
  {
   "cell_type": "code",
   "execution_count": null,
   "metadata": {},
   "outputs": [],
   "source": []
  }
 ],
 "metadata": {
  "language_info": {
   "codemirror_mode": {
    "name": "ipython",
    "version": 3
   },
   "file_extension": ".py",
   "mimetype": "text/x-python",
   "name": "python",
   "nbconvert_exporter": "python",
   "pygments_lexer": "ipython3",
   "version": "3.7.6-final"
  },
  "orig_nbformat": 2,
  "kernelspec": {
   "name": "python3",
   "display_name": "Python 3"
  }
 },
 "nbformat": 4,
 "nbformat_minor": 2
}